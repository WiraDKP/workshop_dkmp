{
 "cells": [
  {
   "cell_type": "markdown",
   "metadata": {},
   "source": [
    "# Hybrid Filtering\n",
    "\n",
    "Idenya adalah mengkombinasikan berbagai macam filter. Misalnya:\n",
    "- demographic:\n",
    "    - tidak personalized\n",
    "    - hanya preferensi secara global\n",
    "    - cocok untuk yang tidak sign in, atau yang baru buat akun\n",
    "- content-based:\n",
    "    - semi personalized\n",
    "    - preferensi sesuai yang ditonton user nya\n",
    "    - cocok supaya rekomendasi terarah sesuai kemiripan konten\n",
    "- collaborative\n",
    "    - personalized\n",
    "    - akan berbeda tiap orang\n",
    "    - memanfaatkan informasi latent dari user lain\n",
    "\n",
    "Misalkan ada `user_id` yang sedang menonton film `movie_id`. Maka kita bisa buat sistem seperti ini:\n",
    "```\n",
    "def recommendation(user_id, movie_id):\n",
    "    if not_login or user_baru:\n",
    "        # DEMOGRAPHIC\n",
    "    else:\n",
    "        # CONTENT-BASED untuk dapat top 30 paling mirip dengan movie_id secara konten\n",
    "\n",
    "        # Filter mana dari top 30 yang sudah ditonton (bisa juga berdasarkan kapan terakhir ditonton)\n",
    "        \n",
    "        # COLLABORATIVE: Prediksi rating untuk user_id pada top 30 tersebut\n",
    "        # sort, dan rekomendasikan top 10 rating\n",
    "    return output\n",
    "```"
   ]
  },
  {
   "cell_type": "markdown",
   "metadata": {},
   "source": [
    "## Important Notes\n",
    "\n",
    "- Formula content-based tiap industri dan tiap perusahaan pasti berbeda-beda\n",
    "- Bobot yang dipakai berbeda\", jumlah pengguna dan data yang berbeda\"\n",
    "- Namanya juga rekomendasi, itu **tidak ada jawaban yang benar maupun salah** karena semua kembali ke user masing-masing\n",
    "\n",
    "Oleh sebab itu, ada **teknik lain** yang bisa improve sistem rekomendasi kita."
   ]
  },
  {
   "cell_type": "markdown",
   "metadata": {},
   "source": [
    "# Human in the loop\n",
    "\n",
    "Teknik ini umum dipakai untuk:\n",
    "- User yang melakukan search di search bar\n",
    "- User yang menyimpan barang tertentu di watchlist atau shopcart\n",
    "- User telah input interest atau follow hashtag tertentu\n",
    "\n",
    "Simply, gunakan info primer dari user, dan rekomendasikan seesuai hal tersebut.\n",
    "\n",
    "Human in the loop juga bisa digunakan **sebagai revisi dari rekomendasi** yang ada.<br>\n",
    "Misalnya ada 10 orang yang search video \"Belajar Machine Learning\" di Youtube, dari RecSys menghasilkan top 10 sesuai perhitungan sistem, tapi bukan berarti orang akan menonton video ranking 1 kan? \n",
    "\n",
    "Misalnya, dengan search yang sama, 10 orang tersebut malah klik video ke 3, kita bisa membuat sebuah fitur baru berupa tag agar video tersebut \"terikat\" dengan search term \"Belajar Machine Learning\", dan next time video peringkat 3 tersebut ada di peringkat pertama. \n",
    "\n",
    "Hal ini bisa dilakukan manual, atau kita serahkan ke mesin berupa ML atau DL."
   ]
  },
  {
   "cell_type": "markdown",
   "metadata": {},
   "source": [
    "# Deep Recommendation System\n",
    "\n",
    "Contoh [sistem rekomendasi Youtube](http://static.googleusercontent.com/media/research.google.com/en//pubs/archive/45530.pdf)\n",
    "- Step 1: Generate Kandidat untuk direkomendasikan\n",
    "    - Fitur: watched videos, searched terms, geografi, umur, gender, dll\n",
    "- Step 2: Ranking / Scoring kandidat\n",
    "    - Fitur: impression, watched videos, user language, video language, dll"
   ]
  }
 ],
 "metadata": {
  "kernelspec": {
   "display_name": "Python [conda env:jcop_recsys]",
   "language": "python",
   "name": "conda-env-jcop_recsys-py"
  },
  "language_info": {
   "codemirror_mode": {
    "name": "ipython",
    "version": 3
   },
   "file_extension": ".py",
   "mimetype": "text/x-python",
   "name": "python",
   "nbconvert_exporter": "python",
   "pygments_lexer": "ipython3",
   "version": "3.7.6"
  }
 },
 "nbformat": 4,
 "nbformat_minor": 2
}
